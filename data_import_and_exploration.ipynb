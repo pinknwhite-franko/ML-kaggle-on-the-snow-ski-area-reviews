{
 "cells": [
  {
   "cell_type": "code",
   "execution_count": 1,
   "id": "5a2e585a",
   "metadata": {},
   "outputs": [
    {
     "name": "stdout",
     "output_type": "stream",
     "text": [
      "Requirement already satisfied: pandas in ./skireview/lib/python3.9/site-packages (2.2.3)\n",
      "Requirement already satisfied: python-dateutil>=2.8.2 in ./skireview/lib/python3.9/site-packages (from pandas) (2.9.0.post0)\n",
      "Requirement already satisfied: pytz>=2020.1 in ./skireview/lib/python3.9/site-packages (from pandas) (2025.1)\n",
      "Requirement already satisfied: numpy>=1.22.4 in ./skireview/lib/python3.9/site-packages (from pandas) (2.0.2)\n",
      "Requirement already satisfied: tzdata>=2022.7 in ./skireview/lib/python3.9/site-packages (from pandas) (2025.1)\n",
      "Requirement already satisfied: six>=1.5 in ./skireview/lib/python3.9/site-packages (from python-dateutil>=2.8.2->pandas) (1.17.0)\n",
      "\u001b[33mWARNING: You are using pip version 21.2.3; however, version 25.0.1 is available.\n",
      "You should consider upgrading via the '/Users/hayleyluo/Desktop/Github/ML-kaggle-on-the-snow-ski-area-reviews/skireview/bin/python -m pip install --upgrade pip' command.\u001b[0m\n"
     ]
    }
   ],
   "source": [
    "!pip install pandas\n",
    "!pip install kaggle\n",
    "!kaggle datasets download -d \"fredkellner/onthesnow-ski-area-reviews\""
   ]
  },
  {
   "cell_type": "code",
   "execution_count": 5,
   "id": "0d587686",
   "metadata": {},
   "outputs": [],
   "source": [
    "import os \n",
    "import pandas as pd"
   ]
  },
  {
   "cell_type": "code",
   "execution_count": 6,
   "id": "649e8e3a",
   "metadata": {},
   "outputs": [
    {
     "name": "stdout",
     "output_type": "stream",
     "text": [
      "current directory: /Users/hayleyluo/Desktop/Github/ML-kaggle-on-the-snow-ski-area-reviews\n"
     ]
    }
   ],
   "source": [
    "# Get the current directory\n",
    "current_directory = os.getcwd()\n",
    "\n",
    "print(f\"current directory: {current_directory}\")"
   ]
  },
  {
   "cell_type": "code",
   "execution_count": 7,
   "id": "396a2ae9",
   "metadata": {},
   "outputs": [],
   "source": [
    "file = f\"{current_directory}/datasets/fredkellner/onthesnow-ski-area-reviews/versions/1/OnTheSnow_SkiAreaReviews.csv\""
   ]
  },
  {
   "cell_type": "code",
   "execution_count": 14,
   "id": "83eea503",
   "metadata": {},
   "outputs": [],
   "source": [
    "df = pd.read_csv(file, header=0)\n",
    "df"
   ]
  },
  {
   "cell_type": "code",
   "execution_count": 16,
   "id": "7fc01ae7",
   "metadata": {},
   "outputs": [
    {
     "data": {
      "text/plain": [
       "Unnamed: 0                        int64\n",
       "State                            object\n",
       "Ski Area                         object\n",
       "Reviewer Name                    object\n",
       "Review Date                      object\n",
       "Review Star Rating (out of 5)     int64\n",
       "Review Text                      object\n",
       "dtype: object"
      ]
     },
     "execution_count": 16,
     "metadata": {},
     "output_type": "execute_result"
    }
   ],
   "source": [
    "df.dtypes"
   ]
  },
  {
   "cell_type": "code",
   "execution_count": 9,
   "id": "ac9f4f29",
   "metadata": {},
   "outputs": [
    {
     "name": "stdout",
     "output_type": "stream",
     "text": [
      "Index(['Unnamed: 0', 'State', 'Ski Area', 'Reviewer Name', 'Review Date',\n",
      "       'Review Star Rating (out of 5)', 'Review Text'],\n",
      "      dtype='object')\n",
      "          Unnamed: 0     State   Ski Area   Reviewer Name       Review Date  \\\n",
      "count   18262.000000     18262      18262           18153             18262   \n",
      "unique           NaN        34        291            8622              3042   \n",
      "top              NaN  michigan  ski-brule  anonymous_user  5th January 2017   \n",
      "freq             NaN      2257       1315            3026                93   \n",
      "mean     9130.500000       NaN        NaN             NaN               NaN   \n",
      "std      5271.929644       NaN        NaN             NaN               NaN   \n",
      "min         0.000000       NaN        NaN             NaN               NaN   \n",
      "25%      4565.250000       NaN        NaN             NaN               NaN   \n",
      "50%      9130.500000       NaN        NaN             NaN               NaN   \n",
      "75%     13695.750000       NaN        NaN             NaN               NaN   \n",
      "max     18261.000000       NaN        NaN             NaN               NaN   \n",
      "\n",
      "        Review Star Rating (out of 5) Review Text  \n",
      "count                    18262.000000       18250  \n",
      "unique                            NaN       16222  \n",
      "top                               NaN              \n",
      "freq                              NaN          21  \n",
      "mean                         3.943763         NaN  \n",
      "std                          1.301897         NaN  \n",
      "min                          1.000000         NaN  \n",
      "25%                          3.000000         NaN  \n",
      "50%                          4.000000         NaN  \n",
      "75%                          5.000000         NaN  \n",
      "max                          5.000000         NaN  \n"
     ]
    }
   ],
   "source": [
    "# print all the columns\n",
    "print(df.columns)\n",
    "\n",
    "# describe all the columns\n",
    "print(df.describe(include='all'))"
   ]
  },
  {
   "cell_type": "code",
   "execution_count": 10,
   "id": "d8374f5b",
   "metadata": {},
   "outputs": [
    {
     "name": "stdout",
     "output_type": "stream",
     "text": [
      "['california' 'nevada' 'colorado' 'washington' 'utah' 'oregon' 'alaska'\n",
      " 'idaho' 'north-carolina' 'wyoming' 'arizona' 'minnesota' 'new-mexico'\n",
      " 'montana' 'michigan' 'vermont' 'wisconsin' 'new-hampshire' 'new-jersey'\n",
      " 'massachusetts' 'pennsylvania' 'new-york' 'maine' 'west-virginia' 'iowa'\n",
      " 'ohio' 'virginia' 'illinois' 'missouri' 'connecticut' 'tennessee'\n",
      " 'indiana' 'south-dakota' 'maryland']\n"
     ]
    }
   ],
   "source": [
    "# print the unique state columns\n",
    "print(df['State'].unique())"
   ]
  },
  {
   "cell_type": "code",
   "execution_count": 35,
   "id": "fa430dd0",
   "metadata": {},
   "outputs": [
    {
     "name": "stdout",
     "output_type": "stream",
     "text": [
      "['squaw-valley-usa' 'mammoth-mountain-ski-area' 'donner-ski-ranch'\n",
      " 'sugar-bowl-resort' 'kirkwood' 'boreal' 'sierra-at-tahoe'\n",
      " 'mt-rose-ski-tahoe' 'soda-springs' 'wolf-creek-ski-area'\n",
      " '49-degrees-north' 'bear-valley' 'alta-ski-area' 'mt-hood-meadows'\n",
      " 'snowbird' 'northstar-california' 'mt-baker' 'alpental' 'tahoe-donner'\n",
      " 'snowbasin' 'brighton-resort' 'alyeska-resort' 'brundage-mountain-resort'\n",
      " 'dodge-ridge' 'mt-bachelor' 'solitude-mountain-resort' 'mount-ashland'\n",
      " 'heavenly-mountain-resort' 'timberline-lodge' 'june-mountain'\n",
      " 'mount-shasta-board-ski-park' 'willamette-pass' 'deer-valley-resort'\n",
      " 'silverton-mountain' 'park-city-mountain-resort' 'diamond-peak'\n",
      " 'appalachian-ski-mtn' 'grand-targhee-resort' 'jackson-hole'\n",
      " 'lookout-pass-ski-area' 'powder-mountain' 'aspen-snowmass'\n",
      " 'copper-mountain-resort' 'steamboat' 'pebble-creek-ski-area'\n",
      " 'arizona-snowbowl' 'telluride' 'welch-village' 'taos-ski-valley'\n",
      " 'monarch-mountain' 'sundance' 'durango-mountain-resort' 'breckenridge'\n",
      " 'winter-park-resort' 'crystal-mountain-wa' 'white-pass' 'big-sky-resort'\n",
      " 'ski-cooper' 'powderhorn' 'schweitzer' 'crested-butte-mountain-resort'\n",
      " 'stevens-pass-resort' 'the-summit-at-snoqualmie' 'blackjack-ski-resort'\n",
      " 'brian-head-resort' 'indianhead-mountain' 'hoodoo-ski-area' 'bluewood'\n",
      " 'beaver-mountain' 'bogus-basin' 'lost-trail-powder-mtn'\n",
      " 'wild-mountain-ski-snowboard-area' 'whitefish-mountain-resort'\n",
      " 'blacktail-mountain-ski-area' 'arapahoe-basin-ski-area' 'ski-santa-fe'\n",
      " 'vail' 'anthony-lakes-mountain-resort' 'loveland' 'sun-valley'\n",
      " 'beaver-creek' 'bolton-valley' 'montana-snowbowl' 'trollhaugen'\n",
      " 'bridger-bowl' 'keystone' 'granite-peak-ski-area' 'silver-mountain'\n",
      " 'discovery-ski-area' 'snow-valley' 'sunlight-mountain-resort'\n",
      " 'las-vegas-ski-and-snowboard-resort' 'mt-hood-ski-bowl' 'ski-china-peak'\n",
      " 'red-lodge-mountain' 'cannon-mountain' 'lutsen-mountains'\n",
      " 'mountain-creek-resort' 'snowy-range-ski-recreation-area'\n",
      " 'wachusett-mountain-ski-area' 'boyne-mountain-resort' 'ski-brule'\n",
      " 'great-divide' 'giants-ridge-resort' 'jay-peak' 'mission-ridge'\n",
      " 'camelback-mountain-resort' 'black-mountain' 'eldora-mountain-resort'\n",
      " 'showdown-ski-area' 'song-mountain' 'stowe-mountain-resort' 'big-boulder'\n",
      " 'buck-hill' 'crystal-mountain' 'killington-resort' 'shanty-creek'\n",
      " 'smugglers-notch-resort' 'wildcat-mountain'\n",
      " 'sipapu-ski-and-summer-resort' 'bretton-woods' 'nubs-nob-ski-area'\n",
      " 'bear-mountain' 'hogadon' 'jiminy-peak' 'loon-mountain' 'snow-summit'\n",
      " 'sugarloaf' 'holimont-ski-area' 'burke-mountain' 'shawnee-peak'\n",
      " 'sunday-river' 'pajarito-mountain-ski-area' 'catamount-ski-ride-area'\n",
      " 'holiday-valley' 'berkshire-east' 'bristol-mountain' 'holiday-mountain'\n",
      " 'pico-mountain-at-killington' 'sugarbush' 'okemo-mountain-resort'\n",
      " 'gore-mountain' 'mount-snow' 'titus-mountain' 'bromley-mountain'\n",
      " 'mountain-high' 'mount-la-crosse' 'ragged-mountain-resort'\n",
      " 'willard-mountain' 'cannonsburg' 'waterville-valley'\n",
      " 'whiteface-mountain-resort' 'woods-valley-ski-area'\n",
      " 'cranmore-mountain-resort' 'belleayre' 'gunstock' 'hunter-mountain'\n",
      " 'mad-river-glen' 'plattekill-mountain' 'stratton-mountain'\n",
      " 'timberline-four-seasons' 'west-mountain' 'mount-bohemia'\n",
      " 'magic-mountain' 'mt-baldy' 'sno-mountain' 'mount-sunapee'\n",
      " 'big-squaw-mountain-ski-resort' 'badger-pass' 'hyland-ski-snowboard-area'\n",
      " 'mt-crescent-ski-area' 'royal-mountain-ski-area'\n",
      " 'coffee-mill-ski-snowboard-resort' 'bruce-mound' 'otis-ridge-ski-area'\n",
      " 'attitash' 'afton-alps' 'alpine-valley' 'alpine-valley-resort'\n",
      " 'snow-king-resort' 'andes-tower-hills-ski-area' 'angel-fire-resort'\n",
      " 'bear-creek-mountain-resort' 'big-powderhorn-mountain'\n",
      " 'bittersweet-ski-area' 'blandford-ski-area' 'blue-knob'\n",
      " 'blue-mountain-ski-area' 'boston-mills' 'bousquet-ski-area'\n",
      " 'boyne-highlands' 'bradford-ski-area' 'brandywine' 'brantling-ski-slopes'\n",
      " 'bryce-resort' 'ski-butternut' 'caberfae-peaks-ski-golf-resort'\n",
      " 'campgaw-mountain' 'cascade-mountain' 'cataloochee-ski-area'\n",
      " 'chestnut-mountain-resort' 'christie-mountain' 'christmas-mountain'\n",
      " 'devils-head' 'dry-hill-ski-area' 'eagle-rock' 'eaglecrest-ski-area'\n",
      " 'elk-mountain-ski-resort' 'grand-geneva' 'greek-peak'\n",
      " 'hidden-valley-ski-area' 'jack-frost' 'kelly-canyon-ski-area' 'king-pine'\n",
      " 'kissing-bridge' 'labrador-mt' 'mad-river-mountain'\n",
      " 'magic-mountain-ski-area' 'marquette-mountain' 'massanutten'\n",
      " 'mccauley-mountain-ski-center' 'mohawk-mountain' 'mt-abram-ski-resort'\n",
      " 'mount-kato-ski-area' 'mount-southington-ski-area' 'mount-brighton'\n",
      " 'mount-holiday-ski-area' 'mount-holly' 'mount-peter-ski-area'\n",
      " 'new-hermon-mountain' 'nordic-mountain' 'wolf-creek' 'norway-mountain'\n",
      " 'ober-gatlinburg-ski-resort' 'paoli-peaks' 'pats-peak' 'peekn-peak'\n",
      " 'perfect-north-slopes' 'pine-mountain' 'pomerelle-mountain-resort'\n",
      " 'powder-ridge-ski-area' 'red-river' 'sandia-peak'\n",
      " 'shawnee-mountain-ski-area' 'ski-granby-ranch' 'ski-apache'\n",
      " 'ski-beech-mountain-resort' 'liberty' 'roundtop-mountain-resort'\n",
      " 'ski-sawmill' 'ski-snowstar-winter-sports-park' 'ski-sundown'\n",
      " 'windham-mountain' 'snow-ridge' 'snow-trails' 'snowshoe-mountain-resort'\n",
      " 'soldier-mountain-ski-area' 'spirit-mountain' 'spring-mountain-ski-area'\n",
      " 'sugar-mountain-resort' 'suicide-six' 'sunburst' 'sundown-mountain'\n",
      " 'sunrise-park-resort' 'swain' 'swiss-valley' 'terry-peak-ski-area'\n",
      " 'timber-ridge' 'toggenburg-mountain' 'tussey-mountain' 'tyrol-basin'\n",
      " 'villa-olivia' 'whitecap-mountain' 'whitetail-resort' 'wilmot-mountain'\n",
      " 'winterplace-ski-resort' 'wintergreen-resort' 'wisp'\n",
      " 'wolf-ridge-ski-resort' 'woodbury-ski-area' 'canaan-valley-resort'\n",
      " 'cooper-spur' 'blue-hills-ski-area' 'big-bear' 'snow-creek'\n",
      " 'crotched-mountain' 'tamarack-resort' 'ski-mystic-at-deer-mountain'\n",
      " 'eagle-point' 'pine-knob-ski-resort' 'whaleback-mountain']\n"
     ]
    }
   ],
   "source": [
    "# print the unique state columns\n",
    "print(df['Ski Area'].unique())"
   ]
  },
  {
   "cell_type": "code",
   "execution_count": 13,
   "id": "8a834280",
   "metadata": {},
   "outputs": [
    {
     "name": "stdout",
     "output_type": "stream",
     "text": [
      "['philip sayles' 'mateonelson' nan ... 'David  Cook' 'Alana' 'woodia']\n"
     ]
    }
   ],
   "source": [
    "# print the unique state columns\n",
    "print(df['Reviewer Name'].unique())"
   ]
  },
  {
   "cell_type": "code",
   "execution_count": 36,
   "id": "721fa8e4",
   "metadata": {},
   "outputs": [
    {
     "name": "stdout",
     "output_type": "stream",
     "text": [
      "Unnamed: 0                         0\n",
      "State                              0\n",
      "Ski Area                           0\n",
      "Reviewer Name                    109\n",
      "Review Date                        0\n",
      "Review Star Rating (out of 5)      0\n",
      "Review Text                       12\n",
      "dtype: int64\n"
     ]
    }
   ],
   "source": [
    "# Count missing values per column\n",
    "# Notes:\n",
    "# Column \"Reviewer Name\" has 109 missing values.\n",
    "# Column \"Review Text\" has \n",
    "missing_counts = df.isna().sum()\n",
    "print(missing_counts)"
   ]
  },
  {
   "cell_type": "code",
   "execution_count": null,
   "id": "5bf81b52",
   "metadata": {},
   "outputs": [],
   "source": []
  }
 ],
 "metadata": {
  "kernelspec": {
   "display_name": "Python 3 (ipykernel)",
   "language": "python",
   "name": "python3"
  },
  "language_info": {
   "codemirror_mode": {
    "name": "ipython",
    "version": 3
   },
   "file_extension": ".py",
   "mimetype": "text/x-python",
   "name": "python",
   "nbconvert_exporter": "python",
   "pygments_lexer": "ipython3",
   "version": "3.9.7"
  }
 },
 "nbformat": 4,
 "nbformat_minor": 5
}
